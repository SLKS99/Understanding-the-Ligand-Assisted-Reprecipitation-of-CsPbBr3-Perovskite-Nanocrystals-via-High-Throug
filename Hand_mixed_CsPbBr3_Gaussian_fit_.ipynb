{
  "nbformat": 4,
  "nbformat_minor": 0,
  "metadata": {
    "colab": {
      "provenance": [],
      "authorship_tag": "ABX9TyPdPtRFXrKB2r+IM0TUIs/L",
      "include_colab_link": true
    },
    "kernelspec": {
      "name": "python3",
      "display_name": "Python 3"
    },
    "language_info": {
      "name": "python"
    }
  },
  "cells": [
    {
      "cell_type": "markdown",
      "metadata": {
        "id": "view-in-github",
        "colab_type": "text"
      },
      "source": [
        "<a href=\"https://colab.research.google.com/github/SLKS99/Understanding-the-Ligand-Assisted-Reprecipitation-of-CsPbBr3-Perovskite-Nanocrystals-via-High-Throug/blob/main/Hand_mixed_CsPbBr3_Gaussian_fit_.ipynb\" target=\"_parent\"><img src=\"https://colab.research.google.com/assets/colab-badge.svg\" alt=\"Open In Colab\"/></a>"
      ]
    },
    {
      "cell_type": "code",
      "source": [
        "#@title Import Modules \n",
        "\n",
        "import os\n",
        "import glob\n",
        "import numpy as np\n",
        "import pandas as pd\n",
        "\n",
        "#Machine Learning Tools\n",
        "from sklearn import decomposition\n",
        "from sklearn.decomposition import PCA\n",
        "from sklearn.decomposition import NMF\n",
        "from sklearn.preprocessing import StandardScaler\n",
        "from sklearn.preprocessing import MinMaxScaler\n",
        "from sklearn import preprocessing\n",
        "\n",
        "#Peak Finding\n",
        "from scipy.stats import norm, multivariate_normal\n",
        "import scipy.signal as ss\n",
        "\n",
        "#Plotting Tools\n",
        "import matplotlib.pyplot as plt\n",
        "import matplotlib.gridspec as gridspec\n",
        "import matplotlib.cm as cm\n",
        "\n",
        "#gdown Installation\n",
        "!pip install gdown==3.6.0\n",
        "\n",
        "!pip install lmfit\n",
        "\n",
        "from lmfit.models import GaussianModel, ExponentialModel, ConstantModel\n",
        "import lmfit\n",
        "\n",
        "from lmfit import Model\n",
        "from lmfit import minimize\n",
        "from numpy import exp, pi, sqrt"
      ],
      "metadata": {
        "colab": {
          "base_uri": "https://localhost:8080/"
        },
        "id": "tKkzm4QknJgv",
        "outputId": "1491ea83-19f0-460d-b89d-b492ac5f06dc"
      },
      "execution_count": 1,
      "outputs": [
        {
          "output_type": "stream",
          "name": "stdout",
          "text": [
            "Looking in indexes: https://pypi.org/simple, https://us-python.pkg.dev/colab-wheels/public/simple/\n",
            "Collecting gdown==3.6.0\n",
            "  Downloading gdown-3.6.0.tar.gz (4.5 kB)\n",
            "  Preparing metadata (setup.py) ... \u001b[?25l\u001b[?25hdone\n",
            "Requirement already satisfied: requests in /usr/local/lib/python3.9/dist-packages (from gdown==3.6.0) (2.27.1)\n",
            "Requirement already satisfied: six in /usr/local/lib/python3.9/dist-packages (from gdown==3.6.0) (1.16.0)\n",
            "Requirement already satisfied: tqdm in /usr/local/lib/python3.9/dist-packages (from gdown==3.6.0) (4.65.0)\n",
            "Requirement already satisfied: certifi>=2017.4.17 in /usr/local/lib/python3.9/dist-packages (from requests->gdown==3.6.0) (2022.12.7)\n",
            "Requirement already satisfied: idna<4,>=2.5 in /usr/local/lib/python3.9/dist-packages (from requests->gdown==3.6.0) (3.4)\n",
            "Requirement already satisfied: urllib3<1.27,>=1.21.1 in /usr/local/lib/python3.9/dist-packages (from requests->gdown==3.6.0) (1.26.15)\n",
            "Requirement already satisfied: charset-normalizer~=2.0.0 in /usr/local/lib/python3.9/dist-packages (from requests->gdown==3.6.0) (2.0.12)\n",
            "Building wheels for collected packages: gdown\n",
            "  Building wheel for gdown (setup.py) ... \u001b[?25l\u001b[?25hdone\n",
            "  Created wheel for gdown: filename=gdown-3.6.0-py3-none-any.whl size=5235 sha256=262dd26fa9a92de9b1e17d33c217c420dd150e0fd118b5b1481b687ef79bdcd1\n",
            "  Stored in directory: /root/.cache/pip/wheels/65/87/ec/f2fb412981ea66b391d86be88d414a09d93d75a7b37e4c7554\n",
            "Successfully built gdown\n",
            "Installing collected packages: gdown\n",
            "  Attempting uninstall: gdown\n",
            "    Found existing installation: gdown 4.6.6\n",
            "    Uninstalling gdown-4.6.6:\n",
            "      Successfully uninstalled gdown-4.6.6\n",
            "Successfully installed gdown-3.6.0\n",
            "Looking in indexes: https://pypi.org/simple, https://us-python.pkg.dev/colab-wheels/public/simple/\n",
            "Collecting lmfit\n",
            "  Downloading lmfit-1.2.0-py3-none-any.whl (93 kB)\n",
            "\u001b[2K     \u001b[90m━━━━━━━━━━━━━━━━━━━━━━━━━━━━━━━━━━━━━━━━\u001b[0m \u001b[32m93.1/93.1 kB\u001b[0m \u001b[31m2.4 MB/s\u001b[0m eta \u001b[36m0:00:00\u001b[0m\n",
            "\u001b[?25hRequirement already satisfied: scipy>=1.6 in /usr/local/lib/python3.9/dist-packages (from lmfit) (1.10.1)\n",
            "Requirement already satisfied: numpy>=1.19 in /usr/local/lib/python3.9/dist-packages (from lmfit) (1.22.4)\n",
            "Collecting asteval>=0.9.28\n",
            "  Downloading asteval-0.9.29-py3-none-any.whl (18 kB)\n",
            "Collecting uncertainties>=3.1.4\n",
            "  Downloading uncertainties-3.1.7-py2.py3-none-any.whl (98 kB)\n",
            "\u001b[2K     \u001b[90m━━━━━━━━━━━━━━━━━━━━━━━━━━━━━━━━━━━━━━━━\u001b[0m \u001b[32m98.4/98.4 kB\u001b[0m \u001b[31m5.9 MB/s\u001b[0m eta \u001b[36m0:00:00\u001b[0m\n",
            "\u001b[?25hRequirement already satisfied: future in /usr/local/lib/python3.9/dist-packages (from uncertainties>=3.1.4->lmfit) (0.18.3)\n",
            "Installing collected packages: uncertainties, asteval, lmfit\n",
            "Successfully installed asteval-0.9.29 lmfit-1.2.0 uncertainties-3.1.7\n"
          ]
        }
      ]
    },
    {
      "cell_type": "markdown",
      "source": [],
      "metadata": {
        "id": "Cvc0cr4w_1Rk"
      }
    },
    {
      "cell_type": "markdown",
      "source": [
        "## User Input"
      ],
      "metadata": {
        "id": "XMQMt6pqnOwq"
      }
    },
    {
      "cell_type": "code",
      "source": [
        "#@title Experimental Data \n",
        "\n",
        "#Names of Precursors\n",
        "precursor1 = '$CsPbBr_3$' #@param {type:\"string\"}\n",
        "\n",
        "\n",
        "#Wells that we should ignore\n",
        "wells_to_ignore = 'A3,A6,A7,A8,A9,A10,A11,B1,B2,B3,B4,B5,B6,B7,B8,B9,B10,B11,C1,C2,C3,C4,C5,C6,C7,C8,C9,C10,C11,D1,D2,D3,D4,D5,D6,D7,D8,D9,D10,D11,E1,E2,E3,E4,E5,E6,E7,E8,E9,E10,E11,F1,F2,F3,F4,F5,F6,F7,F8,F9,F10,F11,G1,G2,G3,G4,G5,G6,G7,G8,G9,G10,G11,H1,H2,H3,H4,H5,H6,H7,H8,H9,H10,H11,A12,B12,C12,D12,E12,F12,G12,H12' #@param {type:\"string\"}\n",
        "\n",
        "#Information about Measurement Range\n",
        "start_wavelength = 400 #@param {type:\"integer\"}\n",
        "end_wavelength =  650 #@param {type:\"integer\"}\n",
        "wavelength_step_size =  2 #@param {type:\"integer\"}\n",
        "\n",
        "time_step = 9 #@param {type:\"integer\"}\n",
        "\n",
        "#Information about the reads\n",
        "number_of_reads =  1 #@param {type:\"integer\"}\n",
        "luminescence_read_numbers = '1'\n",
        "#3,4,5,6,7,8,9,10,11,12,13,14,15,16,17,18,19,20,21,22,23,24,25,26,27,28,29,30,31,32,33,34,35,36,37,38,39,40,41,42,43,44,45,46,47,48,49,50,51,52,53,54,55,56,57,58,59,60,61,62,63,64,65,66,67,68,69,70,71,72,73,74,75,76,77,78,79,80,81,82,83,84,85,86,87,88,89,90,91,92'\n",
        "#,93,94,95,96,97,98,99,100,101,102,103' #@param {type:\"string\"}\n",
        "\n",
        "#Convert the string into a list to use later \n",
        "if len(wells_to_ignore) != 0:\n",
        "  wells_to_ignore = list(wells_to_ignore.split(\",\"))\n",
        "luminescence_read_numbers = list(luminescence_read_numbers.split(\",\"))"
      ],
      "metadata": {
        "id": "2j5ll8LqnLmg"
      },
      "execution_count": 12,
      "outputs": []
    },
    {
      "cell_type": "code",
      "source": [
        "#@title Data Information\n",
        "\n",
        "#Name of files \n",
        "data_file_name = 'Hand mixed a10 A1.csv' #@param {type:'string'}\n",
        "composition_file_name = 'CsPbBr3 wells.csv' #@param {type:'string'}\n",
        "\n",
        "#Download the correct data\n",
        "data_file = '1d_wr71Rfu2hefy3_ZSBSo-O4u_jjO81k' #@param {type:\"string\"}\n",
        "composition_file = '1inVFp-FtwBxsHCaDJRrarAAshRtmyFV6' #@param {type:\"string\"}"
      ],
      "metadata": {
        "id": "DxQgef7knRY4"
      },
      "execution_count": 13,
      "outputs": []
    },
    {
      "cell_type": "markdown",
      "source": [
        "## Downloading and Formating Data"
      ],
      "metadata": {
        "id": "4O8s2hhjnThf"
      }
    },
    {
      "cell_type": "code",
      "source": [
        "#@title Download Files\n",
        "\n",
        "!gdown https://drive.google.com/uc?id={data_file}\n",
        "\n",
        "!gdown https://drive.google.com/uc?id={composition_file}"
      ],
      "metadata": {
        "colab": {
          "base_uri": "https://localhost:8080/"
        },
        "id": "yp-nowmSnVJ7",
        "outputId": "cb1a00d3-d835-4a9d-acf2-315232983a5a"
      },
      "execution_count": 28,
      "outputs": [
        {
          "output_type": "stream",
          "name": "stdout",
          "text": [
            "Downloading...\n",
            "From: https://drive.google.com/uc?id=1d_wr71Rfu2hefy3_ZSBSo-O4u_jjO81k\n",
            "To: /content/Hand mixed a10 A1.csv\n",
            "100% 3.75k/3.75k [00:00<00:00, 6.50MB/s]\n",
            "Downloading...\n",
            "From: https://drive.google.com/uc?id=1inVFp-FtwBxsHCaDJRrarAAshRtmyFV6\n",
            "To: /content/CsPbBr3 wells.csv\n",
            "100% 1.08k/1.08k [00:00<00:00, 2.12MB/s]\n"
          ]
        }
      ]
    },
    {
      "cell_type": "code",
      "source": [
        "#@title Into Pandas Dataframes\n",
        "rawData = pd.read_csv(data_file_name,header=[0])\n",
        "rawData = rawData.replace('OVRFLW', np.NaN)\n",
        "rawData = rawData.replace(r'^\\s*$', np.NaN, regex=True)\n",
        "composition = pd.read_csv(composition_file_name, index_col = 0)\n",
        "\n"
      ],
      "metadata": {
        "id": "UiTkGGbRnYif"
      },
      "execution_count": 29,
      "outputs": []
    },
    {
      "cell_type": "code",
      "source": [
        "luminescence_wavelength=rawData['Wavelength']"
      ],
      "metadata": {
        "id": "9UQ506GEHQLl"
      },
      "execution_count": 30,
      "outputs": []
    },
    {
      "cell_type": "code",
      "source": [
        "rawData=rawData.drop(['Wavelength'],axis=1)\n",
        "rawData"
      ],
      "metadata": {
        "colab": {
          "base_uri": "https://localhost:8080/",
          "height": 424
        },
        "id": "3PvYhWsYQMAs",
        "outputId": "9869ccde-71e2-4726-bfee-00dd9a0356dc"
      },
      "execution_count": 24,
      "outputs": [
        {
          "output_type": "execute_result",
          "data": {
            "text/plain": [
              "     A1  A2  A3  A4  A5  A6  A7  A8  A9  Unnamed: 10 Unnamed: 11\n",
              "0    13   3 NaN NaN NaN   2 NaN   0   0          NaN         NaN\n",
              "1    13   6 NaN NaN NaN   1 NaN   0   1          NaN         NaN\n",
              "2    12   5 NaN NaN NaN   2 NaN   1   0          NaN         NaN\n",
              "3    14   4 NaN NaN NaN   3 NaN   2   3          NaN         NaN\n",
              "4    14   0 NaN NaN NaN   0 NaN   3   2          NaN         NaN\n",
              "..   ..  ..  ..  ..  ..  ..  ..  ..  ..          ...         ...\n",
              "146   2   2 NaN NaN NaN   5 NaN   0   0          NaN         NaN\n",
              "147   1   0 NaN NaN NaN   1 NaN   2   1          NaN         NaN\n",
              "148   3   4 NaN NaN NaN   0 NaN   0   1          NaN         NaN\n",
              "149   0   0 NaN NaN NaN   1 NaN   1   6          NaN         NaN\n",
              "150   0   3 NaN NaN NaN  10 NaN   0   0          NaN         NaN\n",
              "\n",
              "[151 rows x 11 columns]"
            ],
            "text/html": [
              "\n",
              "  <div id=\"df-78649a9b-f5a5-401c-b53a-ecec7f3e2c62\">\n",
              "    <div class=\"colab-df-container\">\n",
              "      <div>\n",
              "<style scoped>\n",
              "    .dataframe tbody tr th:only-of-type {\n",
              "        vertical-align: middle;\n",
              "    }\n",
              "\n",
              "    .dataframe tbody tr th {\n",
              "        vertical-align: top;\n",
              "    }\n",
              "\n",
              "    .dataframe thead th {\n",
              "        text-align: right;\n",
              "    }\n",
              "</style>\n",
              "<table border=\"1\" class=\"dataframe\">\n",
              "  <thead>\n",
              "    <tr style=\"text-align: right;\">\n",
              "      <th></th>\n",
              "      <th>A1</th>\n",
              "      <th>A2</th>\n",
              "      <th>A3</th>\n",
              "      <th>A4</th>\n",
              "      <th>A5</th>\n",
              "      <th>A6</th>\n",
              "      <th>A7</th>\n",
              "      <th>A8</th>\n",
              "      <th>A9</th>\n",
              "      <th>Unnamed: 10</th>\n",
              "      <th>Unnamed: 11</th>\n",
              "    </tr>\n",
              "  </thead>\n",
              "  <tbody>\n",
              "    <tr>\n",
              "      <th>0</th>\n",
              "      <td>13</td>\n",
              "      <td>3</td>\n",
              "      <td>NaN</td>\n",
              "      <td>NaN</td>\n",
              "      <td>NaN</td>\n",
              "      <td>2</td>\n",
              "      <td>NaN</td>\n",
              "      <td>0</td>\n",
              "      <td>0</td>\n",
              "      <td>NaN</td>\n",
              "      <td>NaN</td>\n",
              "    </tr>\n",
              "    <tr>\n",
              "      <th>1</th>\n",
              "      <td>13</td>\n",
              "      <td>6</td>\n",
              "      <td>NaN</td>\n",
              "      <td>NaN</td>\n",
              "      <td>NaN</td>\n",
              "      <td>1</td>\n",
              "      <td>NaN</td>\n",
              "      <td>0</td>\n",
              "      <td>1</td>\n",
              "      <td>NaN</td>\n",
              "      <td>NaN</td>\n",
              "    </tr>\n",
              "    <tr>\n",
              "      <th>2</th>\n",
              "      <td>12</td>\n",
              "      <td>5</td>\n",
              "      <td>NaN</td>\n",
              "      <td>NaN</td>\n",
              "      <td>NaN</td>\n",
              "      <td>2</td>\n",
              "      <td>NaN</td>\n",
              "      <td>1</td>\n",
              "      <td>0</td>\n",
              "      <td>NaN</td>\n",
              "      <td>NaN</td>\n",
              "    </tr>\n",
              "    <tr>\n",
              "      <th>3</th>\n",
              "      <td>14</td>\n",
              "      <td>4</td>\n",
              "      <td>NaN</td>\n",
              "      <td>NaN</td>\n",
              "      <td>NaN</td>\n",
              "      <td>3</td>\n",
              "      <td>NaN</td>\n",
              "      <td>2</td>\n",
              "      <td>3</td>\n",
              "      <td>NaN</td>\n",
              "      <td>NaN</td>\n",
              "    </tr>\n",
              "    <tr>\n",
              "      <th>4</th>\n",
              "      <td>14</td>\n",
              "      <td>0</td>\n",
              "      <td>NaN</td>\n",
              "      <td>NaN</td>\n",
              "      <td>NaN</td>\n",
              "      <td>0</td>\n",
              "      <td>NaN</td>\n",
              "      <td>3</td>\n",
              "      <td>2</td>\n",
              "      <td>NaN</td>\n",
              "      <td>NaN</td>\n",
              "    </tr>\n",
              "    <tr>\n",
              "      <th>...</th>\n",
              "      <td>...</td>\n",
              "      <td>...</td>\n",
              "      <td>...</td>\n",
              "      <td>...</td>\n",
              "      <td>...</td>\n",
              "      <td>...</td>\n",
              "      <td>...</td>\n",
              "      <td>...</td>\n",
              "      <td>...</td>\n",
              "      <td>...</td>\n",
              "      <td>...</td>\n",
              "    </tr>\n",
              "    <tr>\n",
              "      <th>146</th>\n",
              "      <td>2</td>\n",
              "      <td>2</td>\n",
              "      <td>NaN</td>\n",
              "      <td>NaN</td>\n",
              "      <td>NaN</td>\n",
              "      <td>5</td>\n",
              "      <td>NaN</td>\n",
              "      <td>0</td>\n",
              "      <td>0</td>\n",
              "      <td>NaN</td>\n",
              "      <td>NaN</td>\n",
              "    </tr>\n",
              "    <tr>\n",
              "      <th>147</th>\n",
              "      <td>1</td>\n",
              "      <td>0</td>\n",
              "      <td>NaN</td>\n",
              "      <td>NaN</td>\n",
              "      <td>NaN</td>\n",
              "      <td>1</td>\n",
              "      <td>NaN</td>\n",
              "      <td>2</td>\n",
              "      <td>1</td>\n",
              "      <td>NaN</td>\n",
              "      <td>NaN</td>\n",
              "    </tr>\n",
              "    <tr>\n",
              "      <th>148</th>\n",
              "      <td>3</td>\n",
              "      <td>4</td>\n",
              "      <td>NaN</td>\n",
              "      <td>NaN</td>\n",
              "      <td>NaN</td>\n",
              "      <td>0</td>\n",
              "      <td>NaN</td>\n",
              "      <td>0</td>\n",
              "      <td>1</td>\n",
              "      <td>NaN</td>\n",
              "      <td>NaN</td>\n",
              "    </tr>\n",
              "    <tr>\n",
              "      <th>149</th>\n",
              "      <td>0</td>\n",
              "      <td>0</td>\n",
              "      <td>NaN</td>\n",
              "      <td>NaN</td>\n",
              "      <td>NaN</td>\n",
              "      <td>1</td>\n",
              "      <td>NaN</td>\n",
              "      <td>1</td>\n",
              "      <td>6</td>\n",
              "      <td>NaN</td>\n",
              "      <td>NaN</td>\n",
              "    </tr>\n",
              "    <tr>\n",
              "      <th>150</th>\n",
              "      <td>0</td>\n",
              "      <td>3</td>\n",
              "      <td>NaN</td>\n",
              "      <td>NaN</td>\n",
              "      <td>NaN</td>\n",
              "      <td>10</td>\n",
              "      <td>NaN</td>\n",
              "      <td>0</td>\n",
              "      <td>0</td>\n",
              "      <td>NaN</td>\n",
              "      <td>NaN</td>\n",
              "    </tr>\n",
              "  </tbody>\n",
              "</table>\n",
              "<p>151 rows × 11 columns</p>\n",
              "</div>\n",
              "      <button class=\"colab-df-convert\" onclick=\"convertToInteractive('df-78649a9b-f5a5-401c-b53a-ecec7f3e2c62')\"\n",
              "              title=\"Convert this dataframe to an interactive table.\"\n",
              "              style=\"display:none;\">\n",
              "        \n",
              "  <svg xmlns=\"http://www.w3.org/2000/svg\" height=\"24px\"viewBox=\"0 0 24 24\"\n",
              "       width=\"24px\">\n",
              "    <path d=\"M0 0h24v24H0V0z\" fill=\"none\"/>\n",
              "    <path d=\"M18.56 5.44l.94 2.06.94-2.06 2.06-.94-2.06-.94-.94-2.06-.94 2.06-2.06.94zm-11 1L8.5 8.5l.94-2.06 2.06-.94-2.06-.94L8.5 2.5l-.94 2.06-2.06.94zm10 10l.94 2.06.94-2.06 2.06-.94-2.06-.94-.94-2.06-.94 2.06-2.06.94z\"/><path d=\"M17.41 7.96l-1.37-1.37c-.4-.4-.92-.59-1.43-.59-.52 0-1.04.2-1.43.59L10.3 9.45l-7.72 7.72c-.78.78-.78 2.05 0 2.83L4 21.41c.39.39.9.59 1.41.59.51 0 1.02-.2 1.41-.59l7.78-7.78 2.81-2.81c.8-.78.8-2.07 0-2.86zM5.41 20L4 18.59l7.72-7.72 1.47 1.35L5.41 20z\"/>\n",
              "  </svg>\n",
              "      </button>\n",
              "      \n",
              "  <style>\n",
              "    .colab-df-container {\n",
              "      display:flex;\n",
              "      flex-wrap:wrap;\n",
              "      gap: 12px;\n",
              "    }\n",
              "\n",
              "    .colab-df-convert {\n",
              "      background-color: #E8F0FE;\n",
              "      border: none;\n",
              "      border-radius: 50%;\n",
              "      cursor: pointer;\n",
              "      display: none;\n",
              "      fill: #1967D2;\n",
              "      height: 32px;\n",
              "      padding: 0 0 0 0;\n",
              "      width: 32px;\n",
              "    }\n",
              "\n",
              "    .colab-df-convert:hover {\n",
              "      background-color: #E2EBFA;\n",
              "      box-shadow: 0px 1px 2px rgba(60, 64, 67, 0.3), 0px 1px 3px 1px rgba(60, 64, 67, 0.15);\n",
              "      fill: #174EA6;\n",
              "    }\n",
              "\n",
              "    [theme=dark] .colab-df-convert {\n",
              "      background-color: #3B4455;\n",
              "      fill: #D2E3FC;\n",
              "    }\n",
              "\n",
              "    [theme=dark] .colab-df-convert:hover {\n",
              "      background-color: #434B5C;\n",
              "      box-shadow: 0px 1px 3px 1px rgba(0, 0, 0, 0.15);\n",
              "      filter: drop-shadow(0px 1px 2px rgba(0, 0, 0, 0.3));\n",
              "      fill: #FFFFFF;\n",
              "    }\n",
              "  </style>\n",
              "\n",
              "      <script>\n",
              "        const buttonEl =\n",
              "          document.querySelector('#df-78649a9b-f5a5-401c-b53a-ecec7f3e2c62 button.colab-df-convert');\n",
              "        buttonEl.style.display =\n",
              "          google.colab.kernel.accessAllowed ? 'block' : 'none';\n",
              "\n",
              "        async function convertToInteractive(key) {\n",
              "          const element = document.querySelector('#df-78649a9b-f5a5-401c-b53a-ecec7f3e2c62');\n",
              "          const dataTable =\n",
              "            await google.colab.kernel.invokeFunction('convertToInteractive',\n",
              "                                                     [key], {});\n",
              "          if (!dataTable) return;\n",
              "\n",
              "          const docLinkHtml = 'Like what you see? Visit the ' +\n",
              "            '<a target=\"_blank\" href=https://colab.research.google.com/notebooks/data_table.ipynb>data table notebook</a>'\n",
              "            + ' to learn more about interactive tables.';\n",
              "          element.innerHTML = '';\n",
              "          dataTable['output_type'] = 'display_data';\n",
              "          await google.colab.output.renderOutput(dataTable, element);\n",
              "          const docLink = document.createElement('div');\n",
              "          docLink.innerHTML = docLinkHtml;\n",
              "          element.appendChild(docLink);\n",
              "        }\n",
              "      </script>\n",
              "    </div>\n",
              "  </div>\n",
              "  "
            ]
          },
          "metadata": {},
          "execution_count": 24
        }
      ]
    },
    {
      "cell_type": "markdown",
      "source": [
        "### Read One Gaussian Fit"
      ],
      "metadata": {
        "id": "oQdA0_qF6XvT"
      }
    },
    {
      "cell_type": "code",
      "source": [
        "Readone= np.array(rawData)\n",
        "Readone"
      ],
      "metadata": {
        "id": "VJyafYkt6dQ5",
        "colab": {
          "base_uri": "https://localhost:8080/"
        },
        "outputId": "6a7c819b-d2fb-47b9-8448-008e8f42566f"
      },
      "execution_count": 25,
      "outputs": [
        {
          "output_type": "execute_result",
          "data": {
            "text/plain": [
              "array([[13, 3, nan, ..., 0, nan, nan],\n",
              "       [13, 6, nan, ..., 1, nan, nan],\n",
              "       [12, 5, nan, ..., 0, nan, nan],\n",
              "       ...,\n",
              "       [3, 4, nan, ..., 1, nan, nan],\n",
              "       [0, 0, nan, ..., 6, nan, nan],\n",
              "       [0, 3, nan, ..., 0, nan, nan]], dtype=object)"
            ]
          },
          "metadata": {},
          "execution_count": 25
        }
      ]
    },
    {
      "cell_type": "code",
      "source": [
        "# Note that this code is to play around. I did not optimize parameters here\n",
        "# Optimized parameters are in Gauss4Fit function\n",
        "\n",
        "\n",
        "\n",
        "data = Readone\n",
        "result_readone= np.zeros((data.shape[0],data.shape[1],4))\n",
        "x = luminescence_wavelength  #np.arange(dat.shape[0])\n",
        "\n",
        "\n",
        " \n",
        "fwhm=[]\n",
        "center=[]\n",
        "height=[]\n",
        "fit_data=[]\n",
        "for i in range (4):\n",
        "  y=data[:,i]\n",
        "  mod = GaussianModel()\n",
        "  pars = mod.guess(y, x=x)\n",
        "  result = mod.fit(y, pars, x=x) \n",
        "  val= result.params.valuesdict()\n",
        "  f= np.array(val['fwhm'])\n",
        "  fwhm.append(f)\n",
        "  c= np.array(val['center'])\n",
        "  center.append(c)\n",
        "  h=np.array(val['height'])\n",
        "  height.append(h)\n",
        "  #values= np.array(result.params.valuesdict())\n",
        "  #fit_data.append(values)\n",
        "  print(result.params.valuesdict())\n",
        "  para=result.fit_report()\n",
        "  print(result.fit_report())\n",
        "  \n",
        "  result.plot_fit()\n",
        "      \n",
        "      \n",
        "  plt.show()\n",
        "  \n",
        "  \n",
        "\n"
      ],
      "metadata": {
        "colab": {
          "base_uri": "https://localhost:8080/",
          "height": 1000
        },
        "id": "lGujP_hcoSn-",
        "outputId": "b22628e8-2d7b-406f-e21d-91d1b645da16"
      },
      "execution_count": 31,
      "outputs": [
        {
          "output_type": "stream",
          "name": "stdout",
          "text": [
            "{'amplitude': 15134.2823172126, 'center': 522.4708942117846, 'sigma': 10.600816391773924, 'fwhm': 24.963014455677072, 'height': 569.5509829944131}\n",
            "[[Model]]\n",
            "    Model(gaussian)\n",
            "[[Fit Statistics]]\n",
            "    # fitting method   = leastsq\n",
            "    # function evals   = 25\n",
            "    # data points      = 151\n",
            "    # variables        = 3\n",
            "    chi-square         = 17382.9479\n",
            "    reduced chi-square = 117.452351\n",
            "    Akaike info crit   = 722.640740\n",
            "    Bayesian info crit = 731.692579\n",
            "    R-squared          = 0.99329579\n",
            "[[Variables]]\n",
            "    amplitude:  15134.2823 +/- 115.070840 (0.76%) (init = 18975)\n",
            "    center:     522.470894 +/- 0.09307038 (0.02%) (init = 523)\n",
            "    sigma:      10.6008164 +/- 0.09307138 (0.88%) (init = 11)\n",
            "    fwhm:       24.9630145 +/- 0.21916635 (0.88%) == '2.3548200*sigma'\n",
            "    height:     569.550983 +/- 4.33049138 (0.76%) == '0.3989423*amplitude/max(1e-15, sigma)'\n",
            "[[Correlations]] (unreported correlations are < 0.100)\n",
            "    C(amplitude, sigma) = +0.5774\n"
          ]
        },
        {
          "output_type": "display_data",
          "data": {
            "text/plain": [
              "<Figure size 640x480 with 1 Axes>"
            ],
            "image/png": "[encoded data removed]"
          },
          "metadata": {}
        },
        {
          "output_type": "stream",
          "name": "stdout",
          "text": [
            "{'amplitude': 144976.69218120564, 'center': 521.018452560987, 'sigma': 11.214089130359326, 'fwhm': 26.40716136595275, 'height': 5157.559776173185}\n",
            "[[Model]]\n",
            "    Model(gaussian)\n",
            "[[Fit Statistics]]\n",
            "    # fitting method   = leastsq\n",
            "    # function evals   = 25\n",
            "    # data points      = 151\n",
            "    # variables        = 3\n",
            "    chi-square         = 1130969.90\n",
            "    reduced chi-square = 7641.68850\n",
            "    Akaike info crit   = 1353.11725\n",
            "    Bayesian info crit = 1362.16909\n",
            "    R-squared          = 0.99504003\n",
            "[[Variables]]\n",
            "    amplitude:  144976.692 +/- 954.644118 (0.66%) (init = 186804)\n",
            "    center:     521.018453 +/- 0.08526604 (0.02%) (init = 520)\n",
            "    sigma:      11.2140891 +/- 0.08526696 (0.76%) (init = 12)\n",
            "    fwhm:       26.4071614 +/- 0.20078834 (0.76%) == '2.3548200*sigma'\n",
            "    height:     5157.55978 +/- 33.9616473 (0.66%) == '0.3989423*amplitude/max(1e-15, sigma)'\n",
            "[[Correlations]] (unreported correlations are < 0.100)\n",
            "    C(amplitude, sigma) = +0.5774\n"
          ]
        },
        {
          "output_type": "display_data",
          "data": {
            "text/plain": [
              "<Figure size 640x480 with 1 Axes>"
            ],
            "image/png": "[encoded data removed]"
          },
          "metadata": {}
        },
        {
          "output_type": "error",
          "ename": "TypeError",
          "evalue": "ignored",
          "traceback": [
            "\u001b[0;31m---------------------------------------------------------------------------\u001b[0m",
            "\u001b[0;31mTypeError\u001b[0m                                 Traceback (most recent call last)",
            "\u001b[0;32m<ipython-input-31-038d3b5d5bb4>\u001b[0m in \u001b[0;36m<cell line: 16>\u001b[0;34m()\u001b[0m\n\u001b[1;32m     17\u001b[0m   \u001b[0my\u001b[0m\u001b[0;34m=\u001b[0m\u001b[0mdata\u001b[0m\u001b[0;34m[\u001b[0m\u001b[0;34m:\u001b[0m\u001b[0;34m,\u001b[0m\u001b[0mi\u001b[0m\u001b[0;34m]\u001b[0m\u001b[0;34m\u001b[0m\u001b[0;34m\u001b[0m\u001b[0m\n\u001b[1;32m     18\u001b[0m   \u001b[0mmod\u001b[0m \u001b[0;34m=\u001b[0m \u001b[0mGaussianModel\u001b[0m\u001b[0;34m(\u001b[0m\u001b[0;34m)\u001b[0m\u001b[0;34m\u001b[0m\u001b[0;34m\u001b[0m\u001b[0m\n\u001b[0;32m---> 19\u001b[0;31m   \u001b[0mpars\u001b[0m \u001b[0;34m=\u001b[0m \u001b[0mmod\u001b[0m\u001b[0;34m.\u001b[0m\u001b[0mguess\u001b[0m\u001b[0;34m(\u001b[0m\u001b[0my\u001b[0m\u001b[0;34m,\u001b[0m \u001b[0mx\u001b[0m\u001b[0;34m=\u001b[0m\u001b[0mx\u001b[0m\u001b[0;34m)\u001b[0m\u001b[0;34m\u001b[0m\u001b[0;34m\u001b[0m\u001b[0m\n\u001b[0m\u001b[1;32m     20\u001b[0m   \u001b[0mresult\u001b[0m \u001b[0;34m=\u001b[0m \u001b[0mmod\u001b[0m\u001b[0;34m.\u001b[0m\u001b[0mfit\u001b[0m\u001b[0;34m(\u001b[0m\u001b[0my\u001b[0m\u001b[0;34m,\u001b[0m \u001b[0mpars\u001b[0m\u001b[0;34m,\u001b[0m \u001b[0mx\u001b[0m\u001b[0;34m=\u001b[0m\u001b[0mx\u001b[0m\u001b[0;34m)\u001b[0m\u001b[0;34m\u001b[0m\u001b[0;34m\u001b[0m\u001b[0m\n\u001b[1;32m     21\u001b[0m   \u001b[0mval\u001b[0m\u001b[0;34m=\u001b[0m \u001b[0mresult\u001b[0m\u001b[0;34m.\u001b[0m\u001b[0mparams\u001b[0m\u001b[0;34m.\u001b[0m\u001b[0mvaluesdict\u001b[0m\u001b[0;34m(\u001b[0m\u001b[0;34m)\u001b[0m\u001b[0;34m\u001b[0m\u001b[0;34m\u001b[0m\u001b[0m\n",
            "\u001b[0;32m/usr/local/lib/python3.9/dist-packages/lmfit/models.py\u001b[0m in \u001b[0;36mguess\u001b[0;34m(self, data, x, negative, **kwargs)\u001b[0m\n\u001b[1;32m    525\u001b[0m     \u001b[0;32mdef\u001b[0m \u001b[0mguess\u001b[0m\u001b[0;34m(\u001b[0m\u001b[0mself\u001b[0m\u001b[0;34m,\u001b[0m \u001b[0mdata\u001b[0m\u001b[0;34m,\u001b[0m \u001b[0mx\u001b[0m\u001b[0;34m,\u001b[0m \u001b[0mnegative\u001b[0m\u001b[0;34m=\u001b[0m\u001b[0;32mFalse\u001b[0m\u001b[0;34m,\u001b[0m \u001b[0;34m**\u001b[0m\u001b[0mkwargs\u001b[0m\u001b[0;34m)\u001b[0m\u001b[0;34m:\u001b[0m\u001b[0;34m\u001b[0m\u001b[0;34m\u001b[0m\u001b[0m\n\u001b[1;32m    526\u001b[0m         \u001b[0;34m\"\"\"Estimate initial model parameter values from data.\"\"\"\u001b[0m\u001b[0;34m\u001b[0m\u001b[0;34m\u001b[0m\u001b[0m\n\u001b[0;32m--> 527\u001b[0;31m         \u001b[0mpars\u001b[0m \u001b[0;34m=\u001b[0m \u001b[0mguess_from_peak\u001b[0m\u001b[0;34m(\u001b[0m\u001b[0mself\u001b[0m\u001b[0;34m,\u001b[0m \u001b[0mdata\u001b[0m\u001b[0;34m,\u001b[0m \u001b[0mx\u001b[0m\u001b[0;34m,\u001b[0m \u001b[0mnegative\u001b[0m\u001b[0;34m)\u001b[0m\u001b[0;34m\u001b[0m\u001b[0;34m\u001b[0m\u001b[0m\n\u001b[0m\u001b[1;32m    528\u001b[0m         \u001b[0;32mreturn\u001b[0m \u001b[0mupdate_param_vals\u001b[0m\u001b[0;34m(\u001b[0m\u001b[0mpars\u001b[0m\u001b[0;34m,\u001b[0m \u001b[0mself\u001b[0m\u001b[0;34m.\u001b[0m\u001b[0mprefix\u001b[0m\u001b[0;34m,\u001b[0m \u001b[0;34m**\u001b[0m\u001b[0mkwargs\u001b[0m\u001b[0;34m)\u001b[0m\u001b[0;34m\u001b[0m\u001b[0;34m\u001b[0m\u001b[0m\n\u001b[1;32m    529\u001b[0m \u001b[0;34m\u001b[0m\u001b[0m\n",
            "\u001b[0;32m/usr/local/lib/python3.9/dist-packages/lmfit/models.py\u001b[0m in \u001b[0;36mguess_from_peak\u001b[0;34m(model, y, x, negative, ampscale, sigscale)\u001b[0m\n\u001b[1;32m     65\u001b[0m     \u001b[0msig\u001b[0m \u001b[0;34m=\u001b[0m \u001b[0msig\u001b[0m\u001b[0;34m*\u001b[0m\u001b[0msigscale\u001b[0m\u001b[0;34m\u001b[0m\u001b[0;34m\u001b[0m\u001b[0m\n\u001b[1;32m     66\u001b[0m \u001b[0;34m\u001b[0m\u001b[0m\n\u001b[0;32m---> 67\u001b[0;31m     \u001b[0mpars\u001b[0m \u001b[0;34m=\u001b[0m \u001b[0mmodel\u001b[0m\u001b[0;34m.\u001b[0m\u001b[0mmake_params\u001b[0m\u001b[0;34m(\u001b[0m\u001b[0mamplitude\u001b[0m\u001b[0;34m=\u001b[0m\u001b[0mamp\u001b[0m\u001b[0;34m,\u001b[0m \u001b[0mcenter\u001b[0m\u001b[0;34m=\u001b[0m\u001b[0mcen\u001b[0m\u001b[0;34m,\u001b[0m \u001b[0msigma\u001b[0m\u001b[0;34m=\u001b[0m\u001b[0msig\u001b[0m\u001b[0;34m)\u001b[0m\u001b[0;34m\u001b[0m\u001b[0;34m\u001b[0m\u001b[0m\n\u001b[0m\u001b[1;32m     68\u001b[0m     \u001b[0mpars\u001b[0m\u001b[0;34m[\u001b[0m\u001b[0;34mf'{model.prefix}sigma'\u001b[0m\u001b[0;34m]\u001b[0m\u001b[0;34m.\u001b[0m\u001b[0mset\u001b[0m\u001b[0;34m(\u001b[0m\u001b[0mmin\u001b[0m\u001b[0;34m=\u001b[0m\u001b[0;36m0.0\u001b[0m\u001b[0;34m)\u001b[0m\u001b[0;34m\u001b[0m\u001b[0;34m\u001b[0m\u001b[0m\n\u001b[1;32m     69\u001b[0m     \u001b[0;32mreturn\u001b[0m \u001b[0mpars\u001b[0m\u001b[0;34m\u001b[0m\u001b[0;34m\u001b[0m\u001b[0m\n",
            "\u001b[0;32m/usr/local/lib/python3.9/dist-packages/lmfit/model.py\u001b[0m in \u001b[0;36mmake_params\u001b[0;34m(self, verbose, **kwargs)\u001b[0m\n\u001b[1;32m    693\u001b[0m             \u001b[0;31m# apply values passed in through kw args\u001b[0m\u001b[0;34m\u001b[0m\u001b[0;34m\u001b[0m\u001b[0m\n\u001b[1;32m    694\u001b[0m             \u001b[0;32mif\u001b[0m \u001b[0mbasename\u001b[0m \u001b[0;32min\u001b[0m \u001b[0mkwargs\u001b[0m\u001b[0;34m:\u001b[0m\u001b[0;34m\u001b[0m\u001b[0;34m\u001b[0m\u001b[0m\n\u001b[0;32m--> 695\u001b[0;31m                 \u001b[0msetpar\u001b[0m\u001b[0;34m(\u001b[0m\u001b[0mpar\u001b[0m\u001b[0;34m,\u001b[0m \u001b[0mkwargs\u001b[0m\u001b[0;34m[\u001b[0m\u001b[0mbasename\u001b[0m\u001b[0;34m]\u001b[0m\u001b[0;34m)\u001b[0m\u001b[0;34m\u001b[0m\u001b[0;34m\u001b[0m\u001b[0m\n\u001b[0m\u001b[1;32m    696\u001b[0m             \u001b[0;32mif\u001b[0m \u001b[0mname\u001b[0m \u001b[0;32min\u001b[0m \u001b[0mkwargs\u001b[0m\u001b[0;34m:\u001b[0m\u001b[0;34m\u001b[0m\u001b[0;34m\u001b[0m\u001b[0m\n\u001b[1;32m    697\u001b[0m                 \u001b[0msetpar\u001b[0m\u001b[0;34m(\u001b[0m\u001b[0mpar\u001b[0m\u001b[0;34m,\u001b[0m \u001b[0mkwargs\u001b[0m\u001b[0;34m[\u001b[0m\u001b[0mbasename\u001b[0m\u001b[0;34m]\u001b[0m\u001b[0;34m)\u001b[0m\u001b[0;34m\u001b[0m\u001b[0;34m\u001b[0m\u001b[0m\n",
            "\u001b[0;32m/usr/local/lib/python3.9/dist-packages/lmfit/model.py\u001b[0m in \u001b[0;36msetpar\u001b[0;34m(par, val)\u001b[0m\n\u001b[1;32m    668\u001b[0m             \u001b[0;32mif\u001b[0m \u001b[0misinstance\u001b[0m\u001b[0;34m(\u001b[0m\u001b[0mval\u001b[0m\u001b[0;34m,\u001b[0m \u001b[0;34m(\u001b[0m\u001b[0mfloat\u001b[0m\u001b[0;34m,\u001b[0m \u001b[0mint\u001b[0m\u001b[0;34m)\u001b[0m\u001b[0;34m)\u001b[0m\u001b[0;34m:\u001b[0m\u001b[0;34m\u001b[0m\u001b[0;34m\u001b[0m\u001b[0m\n\u001b[1;32m    669\u001b[0m                 \u001b[0mval\u001b[0m \u001b[0;34m=\u001b[0m \u001b[0;34m{\u001b[0m\u001b[0;34m'value'\u001b[0m\u001b[0;34m:\u001b[0m \u001b[0mval\u001b[0m\u001b[0;34m}\u001b[0m\u001b[0;34m\u001b[0m\u001b[0;34m\u001b[0m\u001b[0m\n\u001b[0;32m--> 670\u001b[0;31m             \u001b[0mpar\u001b[0m\u001b[0;34m.\u001b[0m\u001b[0mset\u001b[0m\u001b[0;34m(\u001b[0m\u001b[0;34m**\u001b[0m\u001b[0mval\u001b[0m\u001b[0;34m)\u001b[0m\u001b[0;34m\u001b[0m\u001b[0;34m\u001b[0m\u001b[0m\n\u001b[0m\u001b[1;32m    671\u001b[0m \u001b[0;34m\u001b[0m\u001b[0m\n\u001b[1;32m    672\u001b[0m         \u001b[0;31m# make sure that all named parameters are in params\u001b[0m\u001b[0;34m\u001b[0m\u001b[0;34m\u001b[0m\u001b[0m\n",
            "\u001b[0;31mTypeError\u001b[0m: lmfit.parameter.Parameter.set() argument after ** must be a mapping, not numpy.int64"
          ]
        }
      ]
    },
    {
      "cell_type": "markdown",
      "source": [
        "### Bar plot for Read One"
      ],
      "metadata": {
        "id": "QWLWfrm56h5z"
      }
    },
    {
      "cell_type": "markdown",
      "source": [
        "##FWHM Bar Plot"
      ],
      "metadata": {
        "id": "wZS8Z2O0GhSH"
      }
    },
    {
      "cell_type": "code",
      "source": [
        "fwhm_bar= pd.DataFrame(fwhm)\n",
        "fwhm_bar.rename(columns={fwhm_bar.columns[0]: 'fwhm'},inplace=True)\n",
        "\n",
        "\n",
        "\n",
        "print(fwhm_bar)"
      ],
      "metadata": {
        "colab": {
          "base_uri": "https://localhost:8080/"
        },
        "id": "0KU1N4WoGg7F",
        "outputId": "4a323ed6-5095-4b25-bc11-e8f09e140848"
      },
      "execution_count": 33,
      "outputs": [
        {
          "output_type": "stream",
          "name": "stdout",
          "text": [
            "        fwhm\n",
            "0  24.963014\n",
            "1  26.407161\n"
          ]
        }
      ]
    },
    {
      "cell_type": "markdown",
      "source": [
        "##Center Bar Plot for Read Initial"
      ],
      "metadata": {
        "id": "H26A4_THHcng"
      }
    },
    {
      "cell_type": "code",
      "source": [
        "center_bar= pd.DataFrame(center)\n",
        "center_bar.rename(columns={center_bar.columns[0]: 'center'},inplace=True)\n",
        "\n",
        "\n",
        "\n",
        "print(center_bar)"
      ],
      "metadata": {
        "colab": {
          "base_uri": "https://localhost:8080/"
        },
        "id": "SQc3FvQ5HhHR",
        "outputId": "bce78873-5e09-4026-fdf0-a317ff509aaf"
      },
      "execution_count": 35,
      "outputs": [
        {
          "output_type": "stream",
          "name": "stdout",
          "text": [
            "       center\n",
            "0  522.470894\n",
            "1  521.018453\n"
          ]
        }
      ]
    }
  ]
}